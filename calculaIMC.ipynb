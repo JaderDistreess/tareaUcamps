{
 "cells": [
  {
   "cell_type": "code",
   "execution_count": 35,
   "id": "0654b04e-93d9-44b9-bfba-f62a800e72b6",
   "metadata": {
    "tags": []
   },
   "outputs": [
    {
     "name": "stdin",
     "output_type": "stream",
     "text": [
      "Ingresa tu nombre: Jader\n",
      "Ingresa tu apellido paterno: Laguna\n",
      "Ingresa tu apellido materno: Zenteno\n",
      "Ingresa tu edad:  22\n",
      "Ingresa tu peso en kg:  79\n",
      "Ingresa tu altura en metros: 1.75\n"
     ]
    },
    {
     "name": "stdout",
     "output_type": "stream",
     "text": [
      "Tu IMC es: 25.80\n",
      "interpretacion: sobrepeso\n"
     ]
    }
   ],
   "source": [
    "input(\"Ingresa tu nombre:\")\n",
    "input(\"Ingresa tu apellido paterno:\")\n",
    "input(\"Ingresa tu apellido materno:\")\n",
    "def caluca_imc(peso, altura):\n",
    "    imc =  peso / (altura **2)\n",
    "    return imc\n",
    "\n",
    "def interpretar_imc(imc):\n",
    "    if imc < 18.5:\n",
    "        return \"bajo peso\"\n",
    "    elif 18.5 <= imc < 24.9:\n",
    "        return \"peso normal\"\n",
    "    elif 25 <= imc < 29.9:\n",
    "        return \"sobrepeso\"\n",
    "    else: \n",
    "        return \"obesidad\"\n",
    "        2\n",
    "try:\n",
    "        edad = float(input(\"Ingresa tu edad: \"))\n",
    "        peso = float(input(\"Ingresa tu peso en kg: \"))\n",
    "        altura = float(input(\"Ingresa tu altura en metros:\"))\n",
    "        \n",
    "        imc = caluca_imc (peso, altura)\n",
    "        print(f\"Tu IMC es: {imc:.2f}\")\n",
    "        \n",
    "        interpretacion = interpretar_imc(imc)\n",
    "        print(f\"interpretacion: {interpretacion}\")\n",
    "        \n",
    "except ValueError as ValueError:\n",
    "        print(\"Error: Ingresa valores numericos validos para peso y altura\")"
   ]
  },
  {
   "cell_type": "code",
   "execution_count": null,
   "id": "5d02210c-867b-4faa-9f7b-59de48422b31",
   "metadata": {},
   "outputs": [],
   "source": []
  }
 ],
 "metadata": {
  "kernelspec": {
   "display_name": "Python 3 (ipykernel)",
   "language": "python",
   "name": "python3"
  },
  "language_info": {
   "codemirror_mode": {
    "name": "ipython",
    "version": 3
   },
   "file_extension": ".py",
   "mimetype": "text/x-python",
   "name": "python",
   "nbconvert_exporter": "python",
   "pygments_lexer": "ipython3",
   "version": "3.11.5"
  }
 },
 "nbformat": 4,
 "nbformat_minor": 5
}
